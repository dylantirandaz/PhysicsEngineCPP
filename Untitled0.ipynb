{
  "nbformat": 4,
  "nbformat_minor": 0,
  "metadata": {
    "colab": {
      "provenance": [],
      "authorship_tag": "ABX9TyPwS4+0d5Qf6R0PUG70sQC5",
      "include_colab_link": true
    },
    "kernelspec": {
      "name": "python3",
      "display_name": "Python 3"
    },
    "language_info": {
      "name": "python"
    },
    "accelerator": "TPU"
  },
  "cells": [
    {
      "cell_type": "markdown",
      "metadata": {
        "id": "view-in-github",
        "colab_type": "text"
      },
      "source": [
        "<a href=\"https://colab.research.google.com/github/dylantirandaz/PhysicsEngineCPP/blob/main/Untitled0.ipynb\" target=\"_parent\"><img src=\"https://colab.research.google.com/assets/colab-badge.svg\" alt=\"Open In Colab\"/></a>"
      ]
    },
    {
      "cell_type": "code",
      "execution_count": 1,
      "metadata": {
        "colab": {
          "base_uri": "https://localhost:8080/"
        },
        "id": "-UYo1umSTdaR",
        "outputId": "8a4a635d-a720-4afb-974c-abbfae764676"
      },
      "outputs": [
        {
          "output_type": "stream",
          "name": "stdout",
          "text": [
            "Looking in indexes: https://pypi.org/simple, https://us-python.pkg.dev/colab-wheels/public/simple/\n",
            "Requirement already satisfied: torch in /usr/local/lib/python3.10/dist-packages (2.0.1+cu118)\n",
            "Requirement already satisfied: torchvision in /usr/local/lib/python3.10/dist-packages (0.15.2+cu118)\n",
            "Requirement already satisfied: torchaudio in /usr/local/lib/python3.10/dist-packages (2.0.2+cu118)\n",
            "Requirement already satisfied: filelock in /usr/local/lib/python3.10/dist-packages (from torch) (3.12.0)\n",
            "Requirement already satisfied: typing-extensions in /usr/local/lib/python3.10/dist-packages (from torch) (4.5.0)\n",
            "Requirement already satisfied: sympy in /usr/local/lib/python3.10/dist-packages (from torch) (1.11.1)\n",
            "Requirement already satisfied: networkx in /usr/local/lib/python3.10/dist-packages (from torch) (3.1)\n",
            "Requirement already satisfied: jinja2 in /usr/local/lib/python3.10/dist-packages (from torch) (3.1.2)\n",
            "Requirement already satisfied: triton==2.0.0 in /usr/local/lib/python3.10/dist-packages (from torch) (2.0.0)\n",
            "Requirement already satisfied: cmake in /usr/local/lib/python3.10/dist-packages (from triton==2.0.0->torch) (3.25.2)\n",
            "Requirement already satisfied: lit in /usr/local/lib/python3.10/dist-packages (from triton==2.0.0->torch) (16.0.5)\n",
            "Requirement already satisfied: numpy in /usr/local/lib/python3.10/dist-packages (from torchvision) (1.22.4)\n",
            "Requirement already satisfied: requests in /usr/local/lib/python3.10/dist-packages (from torchvision) (2.27.1)\n",
            "Requirement already satisfied: pillow!=8.3.*,>=5.3.0 in /usr/local/lib/python3.10/dist-packages (from torchvision) (8.4.0)\n",
            "Requirement already satisfied: MarkupSafe>=2.0 in /usr/local/lib/python3.10/dist-packages (from jinja2->torch) (2.1.2)\n",
            "Requirement already satisfied: urllib3<1.27,>=1.21.1 in /usr/local/lib/python3.10/dist-packages (from requests->torchvision) (1.26.15)\n",
            "Requirement already satisfied: certifi>=2017.4.17 in /usr/local/lib/python3.10/dist-packages (from requests->torchvision) (2022.12.7)\n",
            "Requirement already satisfied: charset-normalizer~=2.0.0 in /usr/local/lib/python3.10/dist-packages (from requests->torchvision) (2.0.12)\n",
            "Requirement already satisfied: idna<4,>=2.5 in /usr/local/lib/python3.10/dist-packages (from requests->torchvision) (3.4)\n",
            "Requirement already satisfied: mpmath>=0.19 in /usr/local/lib/python3.10/dist-packages (from sympy->torch) (1.3.0)\n"
          ]
        }
      ],
      "source": [
        "!pip3 install torch torchvision torchaudio"
      ]
    },
    {
      "cell_type": "code",
      "source": [
        "from google.colab import drive\n",
        "drive.mount('/content/drive/')"
      ],
      "metadata": {
        "colab": {
          "base_uri": "https://localhost:8080/"
        },
        "id": "zbV-JyrrUVUV",
        "outputId": "825ff202-ee5d-4884-e0d1-7c2a25f82fa0"
      },
      "execution_count": 3,
      "outputs": [
        {
          "output_type": "stream",
          "name": "stdout",
          "text": [
            "Mounted at /content/drive/\n"
          ]
        }
      ]
    },
    {
      "cell_type": "code",
      "source": [
        "!ls \"/content/drive/My Drive \""
      ],
      "metadata": {
        "colab": {
          "base_uri": "https://localhost:8080/"
        },
        "id": "cl1DNyfVUvS-",
        "outputId": "c3c9025f-1682-4dbd-8038-c3c4dd532a1d"
      },
      "execution_count": 4,
      "outputs": [
        {
          "output_type": "stream",
          "name": "stdout",
          "text": [
            " 1080p.mov\n",
            " 11-19_NA1-4057863598_01.webm\n",
            " 11-19_NA1-4058060130_01.webm\n",
            " 11-19_NA1-4058147322_01.webm\n",
            " 11-19_NA1-4058775661_01.webm\n",
            " 11-19_NA1-4058775661_02.webm\n",
            "'1337 Exam 2 Review.gdoc'\n",
            "'1337 Exam 3 Review.gdoc'\n",
            "'3 80.gdoc'\n",
            "'5 Time Study_005.docx'\n",
            "'5 Time Study_005.pages'\n",
            " 720p.MOV\n",
            "'9 Career & Education Planning Worksheet (1).gdoc'\n",
            "'9 Career & Education Planning Worksheet (1).pdf'\n",
            "'Academic Goals.gdoc'\n",
            "'Annual Calendar.gsheet'\n",
            "'Anxiety and How to Deal With It.gdoc'\n",
            "'Assignment 02.gdoc'\n",
            "'assignment 1.gdoc'\n",
            "\"Awge's Albums\"\n",
            "'book club pres.gdoc'\n",
            " Brochure.gdoc\n",
            "'chatgpt answer.gdoc'\n",
            " Classroom\n",
            "'Colab Notebooks'\n",
            "'Collin College Semster 1 Final Exam.gdoc'\n",
            "'Copy of 1080p.mov'\n",
            "'Copy of 5 Time Study_005.doc.docx'\n",
            "'Copy of Copy of Govt test 4.gdoc'\n",
            "'Copy of ECS1100 ABT ME SLIDE.gslides'\n",
            "'Copy of Gov test 4.gdoc'\n",
            "'Copy of NHS Record of Volunteering - Updated (1).docx'\n",
            "'Copy of NHS Record of Volunteering - Updated.docx'\n",
            "\"Copy of Nick's Replica List.gsheet\"\n",
            "'Copy of proj2 psuedocode.gdoc'\n",
            "'CS 1200 08 25.gdoc'\n",
            "'cs1200 essay.gdoc'\n",
            "'cs1336 4 28 23.gdoc'\n",
            "'CS 1336 C++.gdoc'\n",
            "'CS 1336 Chapter 3.gdoc'\n",
            "'cs 1337 class notes.gdoc'\n",
            " CurrencyConv.gdoc\n",
            " Dallas_Pre-Booking_Form_2022.gdoc\n",
            " Dallas_Pre-Booking_Form_2022.pdf\n",
            "'Diagnostic Essay.gdoc'\n",
            " download\n",
            "'download (2).png'\n",
            "'Do you like the way it sounds_ kanye.mp3'\n",
            "'Dylan Tirandaz Email Confirmation Screenshots (1).pdf'\n",
            "'Dylan Tirandaz Email Confirmation Screenshots.gdoc'\n",
            "'ECS1100 ABT ME SLIDE.gslides'\n",
            "'ecs 1100 interview.gdoc'\n",
            "'ecs assign9.gdoc'\n",
            " ECSresume.gdoc\n",
            "'Elephantiasis by Ishaan and Dylan.gslides'\n",
            "'english day project script.gdoc'\n",
            "'english one pager script.gdoc'\n",
            "'Essay 3 for Paris Talks.gdoc'\n",
            "'Essay for Paris Talks.gdoc'\n",
            "'exam2 1200 comprehensive guide.gdoc'\n",
            "'EXAM 2 CORRECTIONS.gdoc'\n",
            "'EXAM REVIEW.gdoc'\n",
            "'extra credit assign.gdoc'\n",
            "'find weight.gdoc'\n",
            " FOLD-RM.gdoc\n",
            "'Frankenstein Essay.gdoc'\n",
            "'Getting started.pdf'\n",
            "'Honors 2-D Motion Problem Set-problems.pdf'\n",
            "'Honors Changing Motion Problem Set-problems.gdoc'\n",
            "'Honors Changing Motion Problem Set-problems.pdf'\n",
            "'How to Detect Depression in your FriendsHow .gdoc'\n",
            "'How to Natrually Fight Depression.gdoc'\n",
            "'hw1 cs1337.gdoc'\n",
            "'I Believe Speech.gdoc'\n",
            " IMG_0624.PNG\n",
            " IMG_0716.MOV\n",
            " IMG_4865.mov\n",
            " IMG_4971.MOV\n",
            " IMG_4991.MOV\n",
            " IMG_4993.MOV\n",
            " IMG_4995.MOV\n",
            " IMG_4996.MOV\n",
            "'#include \"rectangle.gdoc'\n",
            "'Interview 1.gdoc'\n",
            "'Interview 2.gdoc'\n",
            "'Interview Guide.gdoc'\n",
            "'Kanye unreleased'\n",
            " kanye-west-amp-kendrick-lamar-good-kid-twisted-fantasy-full-mixtape-scloudtomp3downloader.com.mp3\n",
            "'Kanye West - Awesome (Unreleased Yeezus Track).mp3'\n",
            "'Kanye West - Bad Night ft. Young Thug ( Turbo Grafx 16 ).mp3'\n",
            "'Kanye West - _Can U Be_.mp3'\n",
            "'Kanye West  Gorgeous Remix Extended Intro.mp3'\n",
            "'Kanye West - LA Monster.mp3'\n",
            "'Kanye West - Laws Of Attraction [Yandhi].mp3'\n",
            "'Kanye west - life of the party (feat. Andre 3000).mp3'\n",
            "'Kanye West  Life Of The Party Ft Andre 3000 Full Song (1).mp3'\n",
            "'Kanye West  Life Of The Party Ft Andre 3000 Full Song.mp3'\n",
            "'Kenny _ Kanye - Liberated.mp3'\n",
            "'kid cudi ft kanye __ cant look into my eyes.mp3'\n",
            " lab.gdoc\n",
            "'LeetCode 9.palindrome alternate solution.gdoc'\n",
            "\"Mama's Boyfriend Kanye West.mp3\"\n",
            "'Mock Email.gdoc'\n",
            "'my answer.gdoc'\n",
            "'my code so far 2.gdoc'\n",
            "'my code so far.gdoc'\n",
            "'My Movie 33.iMovieMobile'\n",
            "'My Movie 44.mov'\n",
            "'NHS Hours Confirmation and Proof of Submission'\n",
            "'out of class activity 1.gdoc'\n",
            "'out of class activity 2.gdoc'\n",
            "'out of class activity 3.gdoc'\n",
            "'Paris Talk-3 text May 29 2020.docx'\n",
            "'phil essay 1.gdoc'\n",
            "'phil essay 2.gdoc'\n",
            "'phil essay fin.gdoc'\n",
            "'pokemon-blue (20).save'\n",
            "'Pokemon Red.gb'\n",
            "'Pokemon - Red Version (UE)[!] (2).zip'\n",
            "'Pokemon - Red Version (UE)[!].zip'\n",
            "'Problem Solving.gdoc'\n",
            "'proj1 final.gdoc'\n",
            "'proj1 pseudocode cs1337.gdoc'\n",
            "'proj2 psuedocode.gdoc'\n",
            "'project 1 cs1337 (1).gdoc'\n",
            "'project 1 cs1337.gdoc'\n",
            " project2.gdoc\n",
            " psuedo3.gdoc\n",
            "'psuedocode project 4.gdoc'\n",
            " Quick-Format-Guide.pdf\n",
            "'RESUME (1).docx'\n",
            "'RESUME (1).gdoc'\n",
            "'RESUME (2).gdoc'\n",
            "'RESUME (3).gdoc'\n",
            " RESUME.docx\n",
            " Resume.gdoc\n",
            " RESUME.gdoc\n",
            "'review 1336.gdoc'\n",
            "'Review Cleaned.gdoc'\n",
            " rockpapsciss.gdoc\n",
            " Security.mp3\n",
            "'SELFISH ft XXXTentacion (LIVE VERSION).mp3'\n",
            "'Smoke Across A Strawberry Sky (Prod. redMOSK) (1).mp3'\n",
            "'Smoke Across A Strawberry Sky (Prod. redMOSK).mp3'\n",
            "'Songs for Women.mp3'\n",
            " SSNChangeRequest_Uploadable_Doc.pdf\n",
            "'study for final.gdoc'\n",
            "'TD Ameritrade - Fund Your Account - Wire Transfer - Print.pdf'\n",
            " tell-your-friends-when-i-see-it-extended-version-feat.drake-and-kanye-west-scloudtomp3downloader.com.mp3\n",
            "'test corrections.gdoc'\n",
            "'Time Reflection.gdoc'\n",
            "'TRUE LOVE ft XXXTentacion (LIVE VERSION).mp3'\n",
            "'Two Weeks Notice.gdoc'\n",
            "'UNIV Essay.gdoc'\n",
            " Untitled0.ipynb\n",
            "'Untitled document (10).gdoc'\n",
            "'Untitled document (11).gdoc'\n",
            "'Untitled document (12).gdoc'\n",
            "'Untitled document (13).gdoc'\n",
            "'Untitled document (14).gdoc'\n",
            "'Untitled document (15).gdoc'\n",
            "'Untitled document (16).gdoc'\n",
            "'Untitled document (17).gdoc'\n",
            "'Untitled document (18).gdoc'\n",
            "'Untitled document (19).gdoc'\n",
            "'Untitled document (1).gdoc'\n",
            "'Untitled document (20).gdoc'\n",
            "'Untitled document (21).gdoc'\n",
            "'Untitled document (22).gdoc'\n",
            "'Untitled document (23).gdoc'\n",
            "'Untitled document (24).gdoc'\n",
            "'Untitled document (25).gdoc'\n",
            "'Untitled document (26).gdoc'\n",
            "'Untitled document (27).gdoc'\n",
            "'Untitled document (28).gdoc'\n",
            "'Untitled document (29).gdoc'\n",
            "'Untitled document (2).gdoc'\n",
            "'Untitled document (30).gdoc'\n",
            "'Untitled document (31).gdoc'\n",
            "'Untitled document (32).gdoc'\n",
            "'Untitled document (33).gdoc'\n",
            "'Untitled document (34).gdoc'\n",
            "'Untitled document (35).gdoc'\n",
            "'Untitled document (36).gdoc'\n",
            "'Untitled document (3).gdoc'\n",
            "'Untitled document (4).gdoc'\n",
            "'Untitled document (5).gdoc'\n",
            "'Untitled document (6).gdoc'\n",
            "'Untitled document (7).gdoc'\n",
            "'Untitled document (8).gdoc'\n",
            "'Untitled document (9).gdoc'\n",
            "'Untitled document.gdoc'\n",
            "'Untitled spreadsheet (1).gsheet'\n",
            "'Untitled spreadsheet.gsheet'\n",
            " UTD_AD_AEU.pdf\n",
            "'UTD Austin too Essay.gdoc'\n",
            "'Walking With The Wind Response.gdoc'\n",
            " week10.gdoc\n",
            " week12.gdoc\n",
            " Week15.gdoc\n",
            "'week 16.gdoc'\n",
            " week2.gdoc\n",
            "'week 3.gdoc'\n",
            " week4.gdoc\n",
            " week6.gdoc\n",
            " week7.gdoc\n",
            "'week 8.gdoc'\n",
            " week9.gdoc\n",
            " welcome-to-ucla-scloudtomp3downloader.com.mp3\n",
            "'Wise Man - FRANK OCEAN.mp3'\n",
            " ytmp3free.cc_kanye-west-life-of-the-party-ft-andre-3000-full-song-youtubemp3free.org.mp3\n"
          ]
        }
      ]
    },
    {
      "cell_type": "code",
      "source": [
        "import numpy as np\n",
        "import math\n",
        "\n",
        "x = np.linspace(-math.pi, math.pi, 3)\n",
        "y = np.sin(x)"
      ],
      "metadata": {
        "id": "MpMv1WEuVVUR"
      },
      "execution_count": 4,
      "outputs": []
    },
    {
      "cell_type": "code",
      "source": [
        "print (y)"
      ],
      "metadata": {
        "colab": {
          "base_uri": "https://localhost:8080/"
        },
        "id": "fNCwj1DaWSOv",
        "outputId": "ac1b2c0b-70f4-420f-9460-cd1049b69bbf"
      },
      "execution_count": 5,
      "outputs": [
        {
          "output_type": "stream",
          "name": "stdout",
          "text": [
            "[-1.2246468e-16  0.0000000e+00  1.2246468e-16]\n"
          ]
        }
      ]
    },
    {
      "cell_type": "code",
      "source": [
        "a = np.random.randn()\n",
        "b = np.random.randn()\n",
        "c = np.random.randn()\n",
        "d = np.random.randn()"
      ],
      "metadata": {
        "id": "_sTewwYkWU66"
      },
      "execution_count": 6,
      "outputs": []
    },
    {
      "cell_type": "code",
      "source": [
        "print (a, b, c, d)"
      ],
      "metadata": {
        "colab": {
          "base_uri": "https://localhost:8080/"
        },
        "id": "Nr216sh8WxJy",
        "outputId": "20e8eece-523d-4cc0-c94c-f4c63ae764ca"
      },
      "execution_count": 7,
      "outputs": [
        {
          "output_type": "stream",
          "name": "stdout",
          "text": [
            "0.957320155771586 -0.4238653113750807 0.8600481912054693 -0.07321166950952795\n"
          ]
        }
      ]
    },
    {
      "cell_type": "code",
      "source": [
        "print (a)"
      ],
      "metadata": {
        "colab": {
          "base_uri": "https://localhost:8080/"
        },
        "id": "FA_lFkhmWzW5",
        "outputId": "fb60152e-db4f-41ce-c641-9586e9054ee5"
      },
      "execution_count": 8,
      "outputs": [
        {
          "output_type": "stream",
          "name": "stdout",
          "text": [
            "0.957320155771586\n"
          ]
        }
      ]
    },
    {
      "cell_type": "code",
      "source": [
        "learning_rate = 1e-6"
      ],
      "metadata": {
        "id": "vdAdzOCfW0nD"
      },
      "execution_count": null,
      "outputs": []
    }
  ]
}